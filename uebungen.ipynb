{
 "cells": [
  {
   "cell_type": "code",
   "execution_count": null,
   "id": "710e81a9",
   "metadata": {},
   "outputs": [
    {
     "name": "stdout",
     "output_type": "stream",
     "text": [
      "Hello ddf, you are 3 years old.\n"
     ]
    }
   ],
   "source": [
    "#1\n",
    "name = \"\"\n",
    "age = \"\"\n",
    "\n",
    "name = input(\"what is your name?\")\n",
    "age = input(\"What is your age? \")\n",
    "# Print a greeting message\n",
    "print(f\"Hello {name}, you are {age} years old.\")"
   ]
  },
  {
   "cell_type": "code",
   "execution_count": null,
   "id": "0f80e836",
   "metadata": {},
   "outputs": [
    {
     "name": "stdout",
     "output_type": "stream",
     "text": [
      "Odd\n"
     ]
    }
   ],
   "source": [
    "#2.1\n",
    "num = int(input(\"Give the number: \"))\n",
    "\n",
    "if num % 2 == 0:\n",
    "    print(\"Even\")\n",
    "else:\n",
    "    print(\"Odd\")\n"
   ]
  },
  {
   "cell_type": "code",
   "execution_count": 6,
   "id": "48a2ac91",
   "metadata": {},
   "outputs": [
    {
     "name": "stdout",
     "output_type": "stream",
     "text": [
      "not devidable\n"
     ]
    }
   ],
   "source": [
    "#2.2\n",
    "num = int(input(\"Give the number: \"))\n",
    "check = int(input(\"Give the number: \"))\n",
    "if num % check == 0:\n",
    "    print(\"dividable\")\n",
    "else: print(\"not devidable\")"
   ]
  },
  {
   "cell_type": "code",
   "execution_count": null,
   "id": "94298daf",
   "metadata": {},
   "outputs": [
    {
     "name": "stdout",
     "output_type": "stream",
     "text": [
      "[5, 25]\n"
     ]
    }
   ],
   "source": [
    "#3\n",
    "a = [5, 10, 15, 20, 25]\n",
    "\n",
    "def first_Last(a):\n",
    "    a1 = [a[0], a[-1]]\n",
    "    return a1\n",
    "\n",
    "print(first_Last(a))\n"
   ]
  },
  {
   "cell_type": "code",
   "execution_count": null,
   "id": "9c3b8ffb",
   "metadata": {},
   "outputs": [
    {
     "name": "stdout",
     "output_type": "stream",
     "text": [
      "True\n",
      "False\n"
     ]
    }
   ],
   "source": [
    "#4\n",
    "def element_search(sorted_list, target):\n",
    "    low = 0\n",
    "    high = len(sorted_list) - 1\n",
    "\n",
    "    while low <= high:\n",
    "        mid = (low + high) // 2\n",
    "        if sorted_list[mid] == target:\n",
    "            return True\n",
    "        elif sorted_list[mid] < target:\n",
    "            low = mid + 1\n",
    "        else:\n",
    "            high = mid - 1\n",
    "    return False   \n",
    "a = [1, 3, 5, 7, 9]\n",
    "print(element_search(a, 5))   \n",
    "print(element_search(a, 2)) "
   ]
  },
  {
   "cell_type": "code",
   "execution_count": 19,
   "id": "ef0e1e03",
   "metadata": {},
   "outputs": [
    {
     "name": "stdout",
     "output_type": "stream",
     "text": [
      "[[-1, -1, 2], [-1, 0, 1]]\n"
     ]
    }
   ],
   "source": [
    "#med 1\n",
    "nums = [-1,0,1,2,-1,-4]\n",
    "nums.sort()\n",
    "right = 0\n",
    "left = 0\n",
    "result = []\n",
    "for i in range(len(nums)):\n",
    "    if i > 0 and nums[i] == nums[i-1]:\n",
    "        continue\n",
    "    left = i + 1\n",
    "    right = len(nums) - 1\n",
    "    while left < right:\n",
    "        total = nums[i] + nums[left] + nums[right]\n",
    "        if total < 0:\n",
    "            left += 1\n",
    "        elif total > 0:\n",
    "            right -= 1\n",
    "        else:\n",
    "            result.append([nums[i], nums[left], nums[right]])\n",
    "            while left < right and nums[left] == nums[left + 1]:\n",
    "                left += 1\n",
    "            while left < right and nums[right] == nums[right - 1]:\n",
    "                right -= 1\n",
    "            left += 1\n",
    "            right -= 1\n",
    "nums.sort()\n",
    "print(result)"
   ]
  },
  {
   "cell_type": "code",
   "execution_count": 32,
   "id": "cc4bc42e",
   "metadata": {},
   "outputs": [
    {
     "name": "stdout",
     "output_type": "stream",
     "text": [
      "{'AI': 1, 'is': 2, 'the': 1, 'future': 2, 'The': 1, 'now': 1}\n"
     ]
    }
   ],
   "source": [
    "# med 2\n",
    "import string\n",
    "text = \"AI is the future. The future is now.\"\n",
    "text = text.translate(str.maketrans('', '', string.punctuation))\n",
    "\n",
    "words = text.split()\n",
    "word_count = {}\n",
    "for word in words:\n",
    "    if word in word_count:\n",
    "        word_count[word] += 1\n",
    "    else:\n",
    "        word_count[word] = 1\n",
    "\n",
    "print(word_count)\n",
    "\n"
   ]
  },
  {
   "cell_type": "code",
   "execution_count": null,
   "id": "7780a949",
   "metadata": {},
   "outputs": [
    {
     "name": "stdout",
     "output_type": "stream",
     "text": [
      "1984 by George Orwell (1949)\n",
      "The Alchemist by Paulo Coelho (1988)\n",
      "1984 by George Orwell (1949)\n",
      "The Alchemist by Paulo Coelho (1988)\n",
      "1984 by George Orwell (1949)\n"
     ]
    }
   ],
   "source": [
    "# med 3\n",
    "class Book:\n",
    "    def __init__(self, title, author, year):\n",
    "        self.title = title\n",
    "        self.author = author\n",
    "        self.year = year\n",
    "        self.is_checked_out = False\n",
    "\n",
    "    def check_out(self):\n",
    "        self.is_checked_out = True\n",
    "    def return_book(self):\n",
    "        self.is_checked_out = False\n",
    "    def __str__(self):\n",
    "        return f\"{self.title} by {self.author} ({self.year})\"\n",
    "\n",
    "    def __repr__(self):\n",
    "        return f\"Book({self.title!r}, {self.author!r}, {self.year!r})\"\n",
    "    \n",
    "class Library:\n",
    "    def __init__(self):\n",
    "        self.collection = []\n",
    "\n",
    "    def add_book(self, book):\n",
    "        self.collection.append(book)\n",
    "    \n",
    "    def list_books(self):\n",
    "        for book in self.collection:\n",
    "            print(book)\n",
    "\n",
    "    def find_book(self, title):\n",
    "        for book in self.collection:\n",
    "            if book.title.lower() == title.lower():\n",
    "                return book\n",
    "        return None\n",
    "    \n",
    "    def available_books(self):\n",
    "        for book in self.collection:\n",
    "            if not book.is_checked_out:\n",
    "                print(book)\n",
    "b1 = Book(\"1984\", \"George Orwell\", 1949)\n",
    "b2 = Book(\"The Alchemist\", \"Paulo Coelho\", 1988)\n",
    "\n",
    "lib = Library()\n",
    "lib.add_book(b1)\n",
    "lib.add_book(b2)\n",
    "\n",
    "lib.list_books()\n",
    "\n",
    "b1.check_out()\n",
    "lib.list_books()\n",
    "\n",
    "found = lib.find_book(\"1984\")\n",
    "print(found)\n",
    "\n",
    "        "
   ]
  },
  {
   "cell_type": "code",
   "execution_count": null,
   "id": "75cd25e9",
   "metadata": {},
   "outputs": [],
   "source": []
  }
 ],
 "metadata": {
  "kernelspec": {
   "display_name": "Python 3",
   "language": "python",
   "name": "python3"
  },
  "language_info": {
   "codemirror_mode": {
    "name": "ipython",
    "version": 3
   },
   "file_extension": ".py",
   "mimetype": "text/x-python",
   "name": "python",
   "nbconvert_exporter": "python",
   "pygments_lexer": "ipython3",
   "version": "3.12.0"
  }
 },
 "nbformat": 4,
 "nbformat_minor": 5
}
