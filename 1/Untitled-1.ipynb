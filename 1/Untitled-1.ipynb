{
 "cells": [
  {
   "cell_type": "code",
   "execution_count": 5,
   "id": "4f000990",
   "metadata": {},
   "outputs": [
    {
     "name": "stdout",
     "output_type": "stream",
     "text": [
      "hello\n",
      "world\n",
      "5\n",
      "hello world\n",
      "hello worldNatheer. welcome\n"
     ]
    }
   ],
   "source": [
    "hello = 'hello' \n",
    "world = 'world'\n",
    "print(hello)\n",
    "print(world)\n",
    "print(len(hello))\n",
    "hw = hello + \" \" + world\n",
    "print(hw)\n",
    "name = \"Natheer\"\n",
    "final_string = hw +f'{name}. welcome'\n",
    "\n",
    "print(final_string)"
   ]
  },
  {
   "cell_type": "code",
   "execution_count": 12,
   "id": "609ebae6",
   "metadata": {},
   "outputs": [
    {
     "name": "stdout",
     "output_type": "stream",
     "text": [
      "[3, 1, 2]\n",
      "<class 'list'>\n",
      "3\n",
      "2\n",
      "[3, 1, 10, 20]\n",
      "[3, 1, 10]\n"
     ]
    }
   ],
   "source": [
    "xs = [3,1,2]\n",
    "print(xs)\n",
    "print(type(xs))\n",
    "print(xs[0])\n",
    "print(xs[-1])\n",
    "xs[2] =10\n",
    "xs.append(20)\n",
    "print(xs)\n",
    "x= xs.pop()\n",
    "print(xs)\n"
   ]
  },
  {
   "cell_type": "code",
   "execution_count": 18,
   "id": "68b7acc6",
   "metadata": {},
   "outputs": [
    {
     "name": "stdout",
     "output_type": "stream",
     "text": [
      "[0, 1, 2, 3, 4]\n",
      "[0, 1, 2]\n",
      "[2, 3]\n",
      "[2, 3, 4]\n",
      "[0, 1, 8, 9, 4]\n"
     ]
    }
   ],
   "source": [
    "nums = list(range(5))\n",
    "print(nums)\n",
    "print(nums[:3])\n",
    "print(nums[2:4])\n",
    "print(nums[2:])\n",
    "nums[2:4] =[8,9]\n",
    "print(nums)"
   ]
  },
  {
   "cell_type": "code",
   "execution_count": 19,
   "id": "4ba04d23",
   "metadata": {},
   "outputs": [
    {
     "name": "stdout",
     "output_type": "stream",
     "text": [
      "cat\n",
      "dog\n",
      "monkey\n"
     ]
    }
   ],
   "source": [
    "animals = ['cat', 'dog', 'monkey']\n",
    "for animal in animals:\n",
    "    print(animal)\n",
    "# Prints \"cat\", \"dog\", \"monkey\", each on its own line."
   ]
  },
  {
   "cell_type": "code",
   "execution_count": 22,
   "id": "0dcc18cd",
   "metadata": {},
   "outputs": [
    {
     "name": "stdout",
     "output_type": "stream",
     "text": [
      "cat is a nice animal\n",
      "dog is a nice animal\n",
      "monkey is a nice animal\n"
     ]
    }
   ],
   "source": [
    "animals = ['cat', 'dog', 'monkey']\n",
    "for animal in animals:\n",
    "    print(animal+ \" is a nice animal\")"
   ]
  },
  {
   "cell_type": "code",
   "execution_count": 25,
   "id": "2f4df22c",
   "metadata": {},
   "outputs": [
    {
     "name": "stdout",
     "output_type": "stream",
     "text": [
      "index: 0, animal: cat\n",
      "index: 1, animal: dog\n",
      "I am 1\n",
      "index: 2, animal: monkey\n"
     ]
    }
   ],
   "source": [
    "animals = ['cat', 'dog', 'monkey']\n",
    "for idx, animal in enumerate(animals):\n",
    "    print(f\"index: {idx}, animal: {animal}\")\n",
    "    if idx == 1:\n",
    "        print(\"I am 1\")"
   ]
  },
  {
   "cell_type": "code",
   "execution_count": 32,
   "id": "6cbf21ce",
   "metadata": {},
   "outputs": [
    {
     "name": "stdout",
     "output_type": "stream",
     "text": [
      "[0, 1, 2, 3, 4]\n",
      "[0, 4, 16]\n"
     ]
    }
   ],
   "source": [
    "nums = [0,1,2,3,4]\n",
    "squares = []\n",
    "for x in nums:\n",
    "        if x % 2 ==0:\n",
    "            x=x**2\n",
    "            squares.append(x)\n",
    "\n",
    "print(nums)\n",
    "print(squares)\n"
   ]
  },
  {
   "cell_type": "code",
   "execution_count": 31,
   "id": "8c00d5b7",
   "metadata": {},
   "outputs": [
    {
     "name": "stdout",
     "output_type": "stream",
     "text": [
      "[0, 1, 4, 9, 16]\n"
     ]
    }
   ],
   "source": [
    "nums = list(range(5))\n",
    "squares = [x ** 2 for x in nums]\n",
    "print(squares)"
   ]
  },
  {
   "cell_type": "code",
   "execution_count": 34,
   "id": "53d3f1e7",
   "metadata": {},
   "outputs": [
    {
     "name": "stdout",
     "output_type": "stream",
     "text": [
      "[0, 4, 16]\n"
     ]
    }
   ],
   "source": [
    "nums = list(range(5))\n",
    "squares = [x ** 2 for x in nums if x % 2 ==0 ]\n",
    "print(squares)"
   ]
  },
  {
   "cell_type": "code",
   "execution_count": 38,
   "id": "cd003654",
   "metadata": {},
   "outputs": [
    {
     "name": "stdout",
     "output_type": "stream",
     "text": [
      "cute\n",
      "True\n",
      "Not exisit\n"
     ]
    }
   ],
   "source": [
    "d = {'cat': 'cute', 'dog': 'furry'} \n",
    "print(d['cat'])\n",
    "print('cat' in d)\n",
    "print(d.get(\"monkey\", \"Not exisit\"))"
   ]
  },
  {
   "cell_type": "code",
   "execution_count": 40,
   "id": "29826092",
   "metadata": {},
   "outputs": [
    {
     "name": "stdout",
     "output_type": "stream",
     "text": [
      "{0: 0, 1: 1, 2: 4, 3: 9, 4: 16}\n"
     ]
    }
   ],
   "source": [
    "nums = [0,1,2,3,4]\n",
    "squared = {x:x**2 for x in nums}\n",
    "print(squared)"
   ]
  },
  {
   "cell_type": "code",
   "execution_count": 41,
   "id": "208cadd4",
   "metadata": {},
   "outputs": [
    {
     "data": {
      "text/plain": [
       "{1, 2, 4, 6, 8}"
      ]
     },
     "execution_count": 41,
     "metadata": {},
     "output_type": "execute_result"
    }
   ],
   "source": [
    "nums = [1,1,1,1,1,1,2,2,2,2,2,4,4,4,4,6,6,6,6,8,8,8]\n",
    "set(nums)"
   ]
  }
 ],
 "metadata": {
  "kernelspec": {
   "display_name": "Python 3",
   "language": "python",
   "name": "python3"
  },
  "language_info": {
   "codemirror_mode": {
    "name": "ipython",
    "version": 3
   },
   "file_extension": ".py",
   "mimetype": "text/x-python",
   "name": "python",
   "nbconvert_exporter": "python",
   "pygments_lexer": "ipython3",
   "version": "3.12.0"
  }
 },
 "nbformat": 4,
 "nbformat_minor": 5
}
